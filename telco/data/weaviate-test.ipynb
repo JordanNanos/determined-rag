{
 "cells": [
  {
   "cell_type": "code",
   "execution_count": 27,
   "metadata": {},
   "outputs": [],
   "source": [
    "#pip install weaviate-client==3.19.2\n",
    "#!pip install numpy\n",
    "#!pip install pandas\n",
    "#!pip install -U torch==1.12\n",
    "#!pip install transformers"
   ]
  },
  {
   "cell_type": "code",
   "execution_count": 28,
   "metadata": {},
   "outputs": [],
   "source": [
    "import argparse\n",
    "import os\n",
    "import pathlib\n",
    "import time\n",
    "from typing import Any, Dict, List\n",
    "\n",
    "import numpy as np\n",
    "import pandas as pd\n",
    "import torch\n",
    "import transformers\n",
    "import weaviate"
   ]
  },
  {
   "cell_type": "code",
   "execution_count": null,
   "metadata": {},
   "outputs": [],
   "source": []
  },
  {
   "cell_type": "code",
   "execution_count": 29,
   "metadata": {},
   "outputs": [
    {
     "name": "stdout",
     "output_type": "stream",
     "text": [
      "Binary /root/.cache/weaviate-embedded did not exist. Downloading binary from https://github.com/weaviate/weaviate/releases/download/v1.19.3/weaviate-v1.19.3-linux-amd64.tar.gz\n",
      "Started /root/.cache/weaviate-embedded: process ID 1380567\n"
     ]
    },
    {
     "name": "stderr",
     "output_type": "stream",
     "text": [
      "{\"action\":\"startup\",\"default_vectorizer_module\":\"none\",\"level\":\"info\",\"msg\":\"the default vectorizer modules is set to \\\"none\\\", as a result all new schema classes without an explicit vectorizer setting, will use this vectorizer\",\"time\":\"2023-12-05T19:59:12-06:00\"}\n",
      "{\"action\":\"startup\",\"auto_schema_enabled\":true,\"level\":\"info\",\"msg\":\"auto schema enabled setting is set to \\\"true\\\"\",\"time\":\"2023-12-05T19:59:12-06:00\"}\n",
      "{\"level\":\"warning\",\"msg\":\"Multiple vector spaces are present, GraphQL Explore and REST API list objects endpoint module include params has been disabled as a result.\",\"time\":\"2023-12-05T19:59:12-06:00\"}\n",
      "{\"action\":\"grpc_startup\",\"level\":\"info\",\"msg\":\"grpc server listening at [::]:50051\",\"time\":\"2023-12-05T19:59:12-06:00\"}\n",
      "{\"action\":\"restapi_management\",\"level\":\"info\",\"msg\":\"Serving weaviate at http://127.0.0.1:6682\",\"time\":\"2023-12-05T19:59:12-06:00\"}\n",
      "/root/miniconda3/envs/weaviate/lib/python3.10/subprocess.py:1072: ResourceWarning: subprocess 1380567 is still running\n",
      "  _warn(\"subprocess %s is still running\" % self.pid,\n",
      "ResourceWarning: Enable tracemalloc to get the object allocation traceback\n"
     ]
    }
   ],
   "source": [
    "client = weaviate.Client(\n",
    "        embedded_options=weaviate.EmbeddedOptions(\n",
    "            persistence_data_path=\"/home/l40s/dt-rag/telco/data/output/\",\n",
    "            port=6682,\n",
    "        )\n",
    "   )"
   ]
  },
  {
   "cell_type": "code",
   "execution_count": 31,
   "metadata": {},
   "outputs": [
    {
     "name": "stdout",
     "output_type": "stream",
     "text": [
      "root     1380212  4.1  0.1 5726836 399408 ?      Sl   19:52   0:19 /root/miniconda3/envs/weaviate/bin/python -m ipykernel_launcher --f=/root/.local/share/jupyter/runtime/kernel-v2-1377957U4LUPEqadhwm.json\n",
      "root     1380567  1.1  0.0 820944 55484 ?        Sl   19:59   0:00 /root/.cache/weaviate-embedded/weaviate-v1.19.3-8533430c0639ff6721fd01b55d44da58850a60b20c9dd25db1908624d9dca67d --host 127.0.0.1 --port 6682 --scheme http\n",
      "root     1380633  0.0  0.0   7368  3384 pts/7    Ss+  19:59   0:00 /bin/bash -c ps -aux | grep weaviate\n",
      "root     1380635  0.0  0.0   6608  2284 pts/7    S+   19:59   0:00 grep weaviate\n"
     ]
    }
   ],
   "source": [
    "!ps -aux | grep weaviate"
   ]
  },
  {
   "cell_type": "code",
   "execution_count": null,
   "metadata": {},
   "outputs": [],
   "source": []
  },
  {
   "cell_type": "code",
   "execution_count": 30,
   "metadata": {},
   "outputs": [
    {
     "name": "stdout",
     "output_type": "stream",
     "text": [
      "root     1380212  4.2  0.1 5726656 399328 ?      Sl   19:52   0:19 /root/miniconda3/envs/weaviate/bin/python -m ipykernel_launcher --f=/root/.local/share/jupyter/runtime/kernel-v2-1377957U4LUPEqadhwm.json\n",
      "root     1380567  1.4  0.0 820944 55484 ?        Sl   19:59   0:00 /root/.cache/weaviate-embedded/weaviate-v1.19.3-8533430c0639ff6721fd01b55d44da58850a60b20c9dd25db1908624d9dca67d --host 127.0.0.1 --port 6682 --scheme http\n",
      "root     1380629  0.0  0.0   7368  3392 pts/7    Ss+  19:59   0:00 /bin/bash -c ps -aux | grep weaviate\n",
      "root     1380631  0.0  0.0   6608  2204 pts/7    S+   19:59   0:00 grep weaviate\n"
     ]
    },
    {
     "ename": "AttributeError",
     "evalue": "module 'torch' has no attribute 'inference_mode'",
     "output_type": "error",
     "traceback": [
      "\u001b[0;31m---------------------------------------------------------------------------\u001b[0m",
      "\u001b[0;31mAttributeError\u001b[0m                            Traceback (most recent call last)",
      "\u001b[1;32m/root/dt-rag/telco/data/weaviate-test.ipynb Cell 5\u001b[0m line \u001b[0;36m3\n\u001b[1;32m     <a href='vscode-notebook-cell://ssh-remote%2B10.182.1.103/root/dt-rag/telco/data/weaviate-test.ipynb#W0sdnNjb2RlLXJlbW90ZQ%3D%3D?line=28'>29</a>\u001b[0m     end_time \u001b[39m=\u001b[39m time\u001b[39m.\u001b[39mtime()\n\u001b[1;32m     <a href='vscode-notebook-cell://ssh-remote%2B10.182.1.103/root/dt-rag/telco/data/weaviate-test.ipynb#W0sdnNjb2RlLXJlbW90ZQ%3D%3D?line=29'>30</a>\u001b[0m     \u001b[39mprint\u001b[39m(\u001b[39mf\u001b[39m\u001b[39m\"\u001b[39m\u001b[39mFinished creating embedding index, total time \u001b[39m\u001b[39m{\u001b[39;00mend_time\u001b[39m \u001b[39m\u001b[39m-\u001b[39m\u001b[39m \u001b[39mstart_time\u001b[39m}\u001b[39;00m\u001b[39m\"\u001b[39m)\n\u001b[0;32m---> <a href='vscode-notebook-cell://ssh-remote%2B10.182.1.103/root/dt-rag/telco/data/weaviate-test.ipynb#W0sdnNjb2RlLXJlbW90ZQ%3D%3D?line=32'>33</a>\u001b[0m \u001b[39mwith\u001b[39;00m torch\u001b[39m.\u001b[39;49minference_mode():\n\u001b[1;32m     <a href='vscode-notebook-cell://ssh-remote%2B10.182.1.103/root/dt-rag/telco/data/weaviate-test.ipynb#W0sdnNjb2RlLXJlbW90ZQ%3D%3D?line=33'>34</a>\u001b[0m     main()\n",
      "\u001b[0;31mAttributeError\u001b[0m: module 'torch' has no attribute 'inference_mode'"
     ]
    }
   ],
   "source": [
    "\n",
    "def main() -> None:\n",
    "    os.makedirs(args.output, exist_ok=True)\n",
    "    client = weaviate.Client(\n",
    "        embedded_options=weaviate.EmbeddedOptions(\n",
    "            persistence_data_path=args.output,\n",
    "            port=6682,\n",
    "        )\n",
    "    )\n",
    "    print(\"Loading model for creating index\")\n",
    "    tokenizer = transformers.AutoTokenizer.from_pretrained(\n",
    "        args.tokenizer, cache_dir=args.hf_cache_dir\n",
    "    )\n",
    "    tokenizer.pad_token = tokenizer.eos_token\n",
    "    model = transformers.AutoModelForCausalLM.from_pretrained(\n",
    "        args.embedding_model,\n",
    "        trust_remote_code=True,\n",
    "        torch_dtype=torch.bfloat16,\n",
    "        low_cpu_mem_usage=True,\n",
    "        cache_dir=args.hf_cache_dir,\n",
    "    ).to(\"cuda:0\")\n",
    "    model.eval()\n",
    "    chunks = pd.concat([pd.read_csv(x) for x in args.chunks_file]).fillna(\"\")\n",
    "    embeddings = TOKENIZE_LOGIC_MAP[args.tokenize_logic](tokenizer, model, args.prompt, args.prompt)\n",
    "    print(\"Creating embedding index\")\n",
    "    start_time = time.time()\n",
    "    create_weaviate_database(client, chunks.to_dict(orient=\"records\"), embeddings)\n",
    "    end_time = time.time()\n",
    "    print(f\"Finished creating embedding index, total time {end_time - start_time}\")\n",
    "\n",
    "\n",
    "with torch.inference_mode():\n",
    "    main()\n"
   ]
  },
  {
   "cell_type": "code",
   "execution_count": null,
   "metadata": {},
   "outputs": [],
   "source": []
  }
 ],
 "metadata": {
  "kernelspec": {
   "display_name": "rag",
   "language": "python",
   "name": "python3"
  },
  "language_info": {
   "codemirror_mode": {
    "name": "ipython",
    "version": 3
   },
   "file_extension": ".py",
   "mimetype": "text/x-python",
   "name": "python",
   "nbconvert_exporter": "python",
   "pygments_lexer": "ipython3",
   "version": "3.10.13"
  }
 },
 "nbformat": 4,
 "nbformat_minor": 2
}
